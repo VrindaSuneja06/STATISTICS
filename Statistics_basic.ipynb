{
  "nbformat": 4,
  "nbformat_minor": 0,
  "metadata": {
    "colab": {
      "provenance": []
    },
    "kernelspec": {
      "name": "python3",
      "display_name": "Python 3"
    },
    "language_info": {
      "name": "python"
    }
  },
  "cells": [
    {
      "cell_type": "markdown",
      "source": [
        "THEORY :"
      ],
      "metadata": {
        "id": "6LQPz5Pf07Vn"
      }
    },
    {
      "cell_type": "markdown",
      "source": [
        "1. Explain the different types of data (qualitative and quantitative) and provide examples of each. Discuss nominal, ordinal, interval, and ratio scales.\n",
        "Qualitative (Categorical) Data: Describes characteristics or categories.\n",
        "Example: Eye color (blue, brown), Gender (male, female)\n",
        "Quantitative (Numerical) Data: Represents numerical values.\n",
        "Example: Height, weight, temperature\n",
        "Scales of Measurement:\n",
        "Nominal: Categories without a specific order. (Example: Blood type - A, B, AB,)\n",
        "Ordinal: Categories with a meaningful order but no fixed difference. (Example: Education level - High School, Bachelor’s, Master’s)\n",
        "Interval: Numeric values with equal intervals but no true zero. (Example: Temperature in Celsius)\n",
        "Ratio: Numeric values with equal intervals and a true zero. (Example: Height, weight, age)\n",
        "\n",
        "\n",
        "2. What are the measures of central tendency, and when should you use each? Discuss the mean, median, and mode with examples and situations where each is appropriate.\n",
        "Mean (Average): Sum of values divided by the number of values.\n",
        "Used when: Data is symmetric and without outliers.\n",
        "Example: Average marks in a class.\n",
        "\n",
        "Median: Middle value when data is sorted.\n",
        "Used when: Data has skewness or outliers.\n",
        "Example: Median income to avoid skew by extreme values.\n",
        "\n",
        "Mode: Most frequently occurring value.\n",
        "Used when: Finding the most common category.\n",
        "Example: Most preferred mobile brand.\n",
        "\n",
        "\n",
        "3. Explain the concept of dispersion. How do variance and standard deviation measure the spread of data?\n",
        "Dispersion: Measures the spread of data points.\n",
        "Variance: Average of squared differences from the mean.\n",
        "Standard Deviation: Square root of variance, showing how much data deviates from the mean.\n",
        "Data: [2, 4, 6, 8, 10]\n",
        "Mean = 6\n",
        "Variance = Σ(x - mean)² / n = [(2-6)² + (4-6)² + ...] / 5 = 8\n",
        "Standard Deviation = √8 ≈ 2.83\n",
        "\n",
        "\n",
        "4. What is a box plot, and what can it tell you about the distribution of data?\n",
        "A box plot (or box-and-whisker plot) visualizes the distribution of a dataset using:Minimum, First Quartile (Q1), Median (Q2), Third Quartile (Q3), Maximum.\n",
        "It shows:\n",
        "Central tendency (via median).\n",
        "Spread and variability (via quartiles).\n",
        "Presence of outliers.\n",
        "\n",
        "\n",
        "5. Discuss the role of random sampling in making inferences about populations.\n",
        "Random Sampling ensures every individual has an equal chance of selection.\n",
        "Reduces bias.\n",
        "Improves generalizability of results.\n",
        "Allows accurate estimation of population parameters.\n",
        "\n",
        "\n",
        "6. Explain the concept of skewness and its types. How does skewness affect the interpretation of data?\n",
        "Skewness: Measures asymmetry of a dataset.\n",
        "Types:\n",
        "Positive Skew: Right tail is longer (Mean > Median > Mode).\n",
        "Negative Skew: Left tail is longer (Mean < Median < Mode).\n",
        "Zero Skew: Symmetric distribution.\n",
        "Effect: Skewness affects the choice of central tendency (mean for normal data, median for skewed data).\n",
        "\n",
        "\n",
        "7. What is the interquartile range (IQR), and how is it used to detect outliers?\n",
        "IQR = Q3 - Q1 (middle 50% of data)\n",
        "Outliers: If a value is beyond:\n",
        "Lower Bound: Q1 - 1.5 × IQR\n",
        "Upper Bound: Q3 + 1.5 × IQR\n",
        "\n",
        "\n",
        "8. Discuss the conditions under which the binomial distribution is used.\n",
        "Used when:\n",
        "Fixed number of n trials.\n",
        "Each trial has two possible outcomes (success/failure).\n",
        "Constant probability of success (p).\n",
        "Independent trials.\n",
        "\n",
        "\n",
        "9. Explain the properties of the normal distribution and the empirical rule (68-95-99.7 rule).\n",
        "Normal Distribution: Bell-shaped curve, symmetric about the mean.\n",
        "Empirical Rule:\n",
        "68% of data within 1 standard deviation.\n",
        "95% within 2 standard deviations.\n",
        "99.7% within 3 standard deviations.\n",
        "\n",
        "\n",
        "10. Provide a real-life example of a Poisson process and calculate the probability for a specific event.\n",
        " number of phone calls received by a call center per hour, where the average call rate is known (e.g., 5 calls per hour).\n",
        "Example Calculation:\n",
        "Scenario:\n",
        "A call center receives an average of 5 calls per hour. What is the probability of receiving exactly 2 calls in a given hour?\n",
        "Solution:\n",
        "λ (average rate): 5 calls per hour\n",
        "x (desired event): 2 calls\n",
        "Poisson formula: P(X = x) = (e^(-λ) * (λ^x)) / x!\n",
        "Calculation: P(X = 2) = (e^(-5) * (5^2)) / 2! = (0.0067 * 25) / 2 = 0.084\n",
        "\n",
        "\n",
        "\n",
        "11. Explain what a random variable is and differentiate between discrete and continuous random variables.\n",
        "Random Variable: A variable whose values depend on the outcome of a random event.\n",
        "Types:\n",
        "Discrete: Countable values. (Example: Number of calls received in an hour)\n",
        "Continuous: Infinite values within a range. (Example: Temperature, height)\n",
        "\n",
        "12. 12. Provide an example dataset, calculate both covariance and correlation, and interpret the results.\n",
        "Example Dataset:\n",
        "\n",
        "X \tY\n",
        "2 \t3\n",
        "4\t  5\n",
        "6\t  7\n",
        "8\t  9\n",
        "10  11\n",
        "\n",
        "Covariance Formula : Cov(X,Y)=E[(X−EX)(Y−EY)]=E[XY]−(EX)(EY).\n",
        "Corelation Formula : ρ (X,Y) = cov (X,Y) / σX\n",
        "\n"
      ],
      "metadata": {
        "id": "GNvaU0gJ28Fk"
      }
    },
    {
      "cell_type": "code",
      "source": [
        "import numpy as np\n",
        "\n",
        "# Example dataset\n",
        "X = np.array([2, 4, 6, 8, 10])\n",
        "Y = np.array([3, 5, 7, 9, 11])\n",
        "\n",
        "# Compute covariance\n",
        "covariance = np.cov(X, Y, bias=True)[0][1]\n",
        "\n",
        "# Compute correlation\n",
        "correlation = np.corrcoef(X, Y)[0][1]\n",
        "\n",
        "print(f\"Covariance: {covariance}\")\n",
        "print(f\"Correlation: {correlation}\")\n"
      ],
      "metadata": {
        "colab": {
          "base_uri": "https://localhost:8080/"
        },
        "id": "30M9pAqM_0DN",
        "outputId": "d8ff1070-8ec2-4db3-9d50-d6e4fd674329"
      },
      "execution_count": 1,
      "outputs": [
        {
          "output_type": "stream",
          "name": "stdout",
          "text": [
            "Covariance: 8.0\n",
            "Correlation: 0.9999999999999999\n"
          ]
        }
      ]
    }
  ]
}